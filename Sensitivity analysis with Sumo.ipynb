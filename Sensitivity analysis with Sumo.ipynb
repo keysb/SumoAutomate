{
 "cells": [
  {
   "cell_type": "markdown",
   "metadata": {},
   "source": [
    "# Sensitivity analysis programmatically with Sumo - an introductory example\n",
    "\n",
    "Sumo's core simulator component can be accessed from external programs and can be commanded freely. To make this possible, this core component displays an API which we are going to access here from Python.\n",
    "\n",
    "To make things a bit more convenivent, we (Dynamita) have developed a Python module that wraps many of these API calls into more convenient calls to support high-level thinking about simulation-oriented tasks.\n",
    "\n",
    "This simple example shows how to use a previously built Sumo project in Python, and to do a simple parameter sensitivity analysis by repeated parameter changes and simulation runs. To be more specific, we are going to use one batch CSTR (the .sumo file can be found in this same folder), change the ammonia half-saturation coefficient and plot the ammonia concentration vs time for all our tested parameter values. \n",
    "\n",
    "As a first step, we import some tools from external modules:"
   ]
  },
  {
   "cell_type": "code",
   "execution_count": 1,
   "metadata": {},
   "outputs": [],
   "source": [
    "from dynamita.sumo import Sumo, dur\n",
    "\n",
    "import numpy\n",
    "import time\n",
    "import matplotlib.pyplot as plt\n",
    "%matplotlib notebook"
   ]
  },
  {
   "cell_type": "markdown",
   "metadata": {},
   "source": [
    "Here below we load Sumo in this environment. The call takes two arguments:\n",
    "\n",
    "- the first one is the install path of Sumo (to be more precise, the path where the **sumocore.dll** file can be found)\n",
    "- the second one is the path to the license file"
   ]
  },
  {
   "cell_type": "code",
   "execution_count": 2,
   "metadata": {},
   "outputs": [
    {
     "name": "stdout",
     "output_type": "stream",
     "text": [
      "License OK...\n"
     ]
    }
   ],
   "source": [
    "sumo = Sumo(sumoPath=\"d:/0sw/Sumo19\",\n",
    "           licenseFile=r\"d:/0sw/Sumo19/yourlicensefile.sumodyn\")"
   ]
  },
  {
   "cell_type": "markdown",
   "metadata": {},
   "source": [
    "This next one will take some explanation of how simulations in Sumo are structured internally:\n",
    "\n",
    "As a fundamental rule, when the user starts a simulation, Sumo will do the dynamic simulation uninterrupted until the stop time is reached. Communication in general takes place only in data communication intervals (there are a few exceptions, e.g. if we provide dynamic data files then we can influence the simulation even outside data communication intervals, but this does not strictly belong to this basic explanation).\n",
    "\n",
    "However, Sumo does not know what the user wants to do at data communication intervals, so it leaves for her/him to define the required behavior. This is done by defining a custom function here below. Anything can be inserted in this function; our example makes two queries to the core: the first one is for the current simulation time, the second one is the current ammonia concentration.\n",
    "\n",
    "The function can be named arbitrarily; the only requirement is that it has to receive the previously created sumo object as its argument."
   ]
  },
  {
   "cell_type": "code",
   "execution_count": 3,
   "metadata": {},
   "outputs": [],
   "source": [
    "def datacomm_callback(sumo):\n",
    "    t.append(sumo.core.csumo_var_get_time_double(sumo.handle))\n",
    "    snhx.append(sumo.core.csumo_var_get_pvtarray_pos(sumo.handle, snhx_pos, 0))\n",
    "    return 0"
   ]
  },
  {
   "cell_type": "code",
   "execution_count": 4,
   "metadata": {},
   "outputs": [],
   "source": [
    "def message_callback(sumo):\n",
    "    for message in sumo.messages:\n",
    "        print(message)\n",
    "    sumo.messages = []\n",
    "    return 0"
   ]
  },
  {
   "cell_type": "code",
   "execution_count": 5,
   "metadata": {},
   "outputs": [],
   "source": [
    "sumo.register_message_callback(message_callback)"
   ]
  },
  {
   "cell_type": "markdown",
   "metadata": {},
   "source": [
    "After all these preparations let us load our project. One important side note here is that the parameters modified in the GUI (e.g. in the 'Input setup' mode) will not appear when we load the project from here. The reason is that those modifications are stored in a different file within the .sumo project, but when we load the model from here, we only unpack the .dll file itself.\n",
    "\n",
    "This will probably change in a future version of the Sumo Python tools but for now all those settings that one might have applied to the GUI, must be repeated here manually via 'set' commands. For further information on how to use the 'set' command, please consult the Sumo documentations."
   ]
  },
  {
   "cell_type": "code",
   "execution_count": 6,
   "metadata": {},
   "outputs": [
    {
     "name": "stdout",
     "output_type": "stream",
     "text": [
      "530021 Set: Sumo__StopTime to 0\n",
      "530021 Set: Sumo__DataComm to 3600000\n",
      "530021 Set: Sumo__PlantName to d:\\0sw\\Sumo19\\.tmp\\rlc2tfye.bgd\\sumoproject.xml\n",
      "530049 Core loop started."
     ]
    },
    {
     "data": {
      "text/plain": [
       "0"
      ]
     },
     "execution_count": 6,
     "metadata": {},
     "output_type": "execute_result"
    },
    {
     "name": "stdout",
     "output_type": "stream",
     "text": [
      "\n"
     ]
    }
   ],
   "source": [
    "sumo.load_model('cstr.sumo')"
   ]
  },
  {
   "cell_type": "markdown",
   "metadata": {},
   "source": [
    "This command below lets Sumo know about our custom datacomm function:"
   ]
  },
  {
   "cell_type": "code",
   "execution_count": 7,
   "metadata": {},
   "outputs": [],
   "source": [
    "sumo.register_datacomm_callback(datacomm_callback)"
   ]
  },
  {
   "cell_type": "markdown",
   "metadata": {},
   "source": [
    "As we are on our own, we need to find our variables inside the model ourselves. This can be done either by the variable name, or using the fast lane, via the variable's internal position (This is waaay faster. Sumo stores the model variables internally in a table. This position means roughly which row our variable is in.). So here below we retrieve the position of the ammonia concentration.\n",
    "\n",
    "Oh, and BTW, here are some examples on how to use the 'set' command as well. "
   ]
  },
  {
   "cell_type": "code",
   "execution_count": 8,
   "metadata": {},
   "outputs": [
    {
     "name": "stdout",
     "output_type": "stream",
     "text": [
      "530021 Set: Sumo__Plant__CSTR1__param__XOHO_0 to 0\n",
      "530021 Set: Sumo__Plant__CSTR1__param__XPAO_0 to 0\n",
      "530021 Set: Sumo__Plant__CSTR1__param__SNHx_0 to 5\n"
     ]
    }
   ],
   "source": [
    "snhx_pos = sumo.core.csumo_model_get_variable_info_pos(sumo.handle, b'Sumo__Plant__CSTR1__SNHx')\n",
    "sumo.send_command('set Sumo__Plant__CSTR1__param__XOHO_0 0;')\n",
    "sumo.send_command('set Sumo__Plant__CSTR1__param__XPAO_0 0;')\n",
    "sumo.send_command('set Sumo__Plant__CSTR1__param__SNHx_0 5;')"
   ]
  },
  {
   "cell_type": "markdown",
   "metadata": {},
   "source": [
    "Just to demonstrate that the variable position is indeed only a number:"
   ]
  },
  {
   "cell_type": "code",
   "execution_count": 9,
   "metadata": {},
   "outputs": [
    {
     "data": {
      "text/plain": [
       "19"
      ]
     },
     "execution_count": 9,
     "metadata": {},
     "output_type": "execute_result"
    }
   ],
   "source": [
    "snhx_pos"
   ]
  },
  {
   "cell_type": "markdown",
   "metadata": {},
   "source": [
    "This below is done in the 'Simulation' mode in the GUI - arguments are taken in msecs:"
   ]
  },
  {
   "cell_type": "code",
   "execution_count": 10,
   "metadata": {},
   "outputs": [
    {
     "name": "stdout",
     "output_type": "stream",
     "text": [
      "530021 Set: Sumo__StopTime to 7200000\n",
      "530021 Set: Sumo__DataComm to 30000\n"
     ]
    }
   ],
   "source": [
    "sumo.set_stopTime(7200000)\n",
    "sumo.set_dataComm(30000)"
   ]
  },
  {
   "cell_type": "markdown",
   "metadata": {},
   "source": [
    "Let's define some storage space for our simulation results. For the sake of simplicity we use raw Python lists."
   ]
  },
  {
   "cell_type": "code",
   "execution_count": 11,
   "metadata": {},
   "outputs": [],
   "source": [
    "t = []\n",
    "snhx = []"
   ]
  },
  {
   "cell_type": "markdown",
   "metadata": {},
   "source": [
    "First let's just run one simulation with the default parameter values:"
   ]
  },
  {
   "cell_type": "code",
   "execution_count": 12,
   "metadata": {},
   "outputs": [
    {
     "name": "stdout",
     "output_type": "stream",
     "text": [
      "530002 Simulation started.\n",
      "530004 Simulation ended.\n"
     ]
    }
   ],
   "source": [
    "sumo.run_model()"
   ]
  },
  {
   "cell_type": "markdown",
   "metadata": {},
   "source": [
    "Looking at our previously defined lists we can see that now they are magically filled with the simulation results. \n",
    "\n",
    "Actually there is no magic in the process; while Sumo was running the simulation, it called our previously defined *datacomm_callback* function every time it reached the data communication interval which we set by the set_dataComm call above."
   ]
  },
  {
   "cell_type": "code",
   "execution_count": 13,
   "metadata": {},
   "outputs": [
    {
     "data": {
      "text/plain": [
       "[5.0,\n",
       " 4.909034129930658,\n",
       " 4.818304479019445,\n",
       " 4.727817205750779,\n",
       " 4.637578314290339,\n",
       " 4.547593737041543,\n",
       " 4.457870670566025,\n",
       " 4.368416378069099,\n",
       " 4.279238412478769,\n",
       " 4.190344702207164,\n",
       " 4.101743597576949,\n",
       " 4.013443843326506,\n",
       " 3.9254546985354484,\n",
       " 3.837785941128058,\n",
       " 3.7504478566845907,\n",
       " 3.663451258481501,\n",
       " 3.5768075281839273,\n",
       " 3.4905286585127966,\n",
       " 3.4046272885196873,\n",
       " 3.319116747416203,\n",
       " 3.2340110951037424,\n",
       " 3.149325162970689,\n",
       " 3.065074600566519,\n",
       " 2.981275928236134,\n",
       " 2.8979465929311377,\n",
       " 2.8151050261233275,\n",
       " 2.7327707049452354,\n",
       " 2.6509642177604213,\n",
       " 2.569707334274065,\n",
       " 2.489023079751647,\n",
       " 2.408935813181144,\n",
       " 2.3294713095422943,\n",
       " 2.2506568462781145,\n",
       " 2.172521293771125,\n",
       " 2.09509520940609,\n",
       " 2.0184109346880925,\n",
       " 1.9425026947396626,\n",
       " 1.8674066992364617,\n",
       " 1.793161243479298,\n",
       " 1.7198068078823878,\n",
       " 1.647386153678592,\n",
       " 1.5759444120661288,\n",
       " 1.505529163321717,\n",
       " 1.4361905015765184,\n",
       " 1.3679810799946972,\n",
       " 1.3009561300089973,\n",
       " 1.2351734457236607,\n",
       " 1.170693325868593,\n",
       " 1.1075784671796511,\n",
       " 1.0458937920784104,\n",
       " 0.9857061975873743,\n",
       " 0.9270842129505226,\n",
       " 0.8700975522900329,\n",
       " 0.8148165977041162,\n",
       " 0.7613116262602946,\n",
       " 0.7096519473493885,\n",
       " 0.6599049496877614,\n",
       " 0.6121349929014104,\n",
       " 0.5664021269583598,\n",
       " 0.5227606819739817,\n",
       " 0.48125778662649893,\n",
       " 0.4419318653409272,\n",
       " 0.4048111663046426,\n",
       " 0.36991238942671145,\n",
       " 0.3372394999621345,\n",
       " 0.3067828173869408,\n",
       " 0.278518459655558,\n",
       " 0.2524081869242797,\n",
       " 0.2283998004836008,\n",
       " 0.20642786847369876,\n",
       " 0.18641489206893463,\n",
       " 0.16827280838553096,\n",
       " 0.15190484236987228,\n",
       " 0.1372078798065192,\n",
       " 0.12407442935527443,\n",
       " 0.11239452327022832,\n",
       " 0.10205749242744283,\n",
       " 0.09295363707454808,\n",
       " 0.08497562541605697,\n",
       " 0.0780195729636846,\n",
       " 0.07198581615960768,\n",
       " 0.06677946693606511,\n",
       " 0.062310818000094484,\n",
       " 0.05849565008025349,\n",
       " 0.05525546728455722,\n",
       " 0.05251767854684535,\n",
       " 0.05021572953364537,\n",
       " 0.04828917661990808,\n",
       " 0.04668368271616454,\n",
       " 0.045350915087881534,\n",
       " 0.04424831313039827,\n",
       " 0.04333880461392679,\n",
       " 0.0425904227992973,\n",
       " 0.04197584428139303,\n",
       " 0.04147189739633202,\n",
       " 0.04105906631900433,\n",
       " 0.04072101549201109,\n",
       " 0.04044414452395405,\n",
       " 0.04021718274560141,\n",
       " 0.04003085823794652,\n",
       " 0.03987753390234573,\n",
       " 0.03975089751601874,\n",
       " 0.039645767054613264,\n",
       " 0.03955792094339597,\n",
       " 0.039483943320483016,\n",
       " 0.03942106160134763,\n",
       " 0.039367017234516924,\n",
       " 0.03931996447327314,\n",
       " 0.03927840247037255,\n",
       " 0.03924111598461364,\n",
       " 0.03920712506941338,\n",
       " 0.039175637207133414,\n",
       " 0.03914601065752007,\n",
       " 0.03911772512679794,\n",
       " 0.03909036095620623,\n",
       " 0.0390635807567303,\n",
       " 0.03903711439874761,\n",
       " 0.039010745393586524,\n",
       " 0.03898430064171268,\n",
       " 0.03895764204247764,\n",
       " 0.03893066034798548,\n",
       " 0.03890326907728398,\n",
       " 0.038875401536211725,\n",
       " 0.03884700672808479,\n",
       " 0.038818045960945534,\n",
       " 0.0387884902282354,\n",
       " 0.03875831844492132,\n",
       " 0.03872751605805346,\n",
       " 0.038696073914825505,\n",
       " 0.03866398724391108,\n",
       " 0.0386312548000157,\n",
       " 0.03859787815269196,\n",
       " 0.038563861129065506,\n",
       " 0.038529209369262366,\n",
       " 0.03849393022747286,\n",
       " 0.03845803184298255,\n",
       " 0.03842152326353869,\n",
       " 0.03838441434886892,\n",
       " 0.038346715609218054,\n",
       " 0.03830843804231939,\n",
       " 0.03826959300343416,\n",
       " 0.03823019210719941,\n",
       " 0.038190247155547606,\n",
       " 0.03814977008274071,\n",
       " 0.038108772901449726,\n",
       " 0.03806726768670673,\n",
       " 0.03802526655506654,\n",
       " 0.03798278162085377,\n",
       " 0.03793982497290353,\n",
       " 0.03789640865553572,\n",
       " 0.03785254466182639,\n",
       " 0.03780824492509622,\n",
       " 0.037763521311899306,\n",
       " 0.037718385613013945,\n",
       " 0.03767284953630336,\n",
       " 0.037626924700417466,\n",
       " 0.037580622630417754,\n",
       " 0.03753395475405397,\n",
       " 0.03748693239880874,\n",
       " 0.03743956678915279,\n",
       " 0.03739186904421621,\n",
       " 0.037343850175897884,\n",
       " 0.03729552108687565,\n",
       " 0.037246892568924536,\n",
       " 0.03719797530189777,\n",
       " 0.03714877985277172,\n",
       " 0.03709931667475316,\n",
       " 0.03704959610628718,\n",
       " 0.03699962837025811,\n",
       " 0.03694942357331833,\n",
       " 0.03689899170541409,\n",
       " 0.03684834263933788,\n",
       " 0.03679748613034695,\n",
       " 0.03674643181579194,\n",
       " 0.03669518921483554,\n",
       " 0.03664376772822155,\n",
       " 0.03659217663812176,\n",
       " 0.03654042510801195,\n",
       " 0.036488522182598876,\n",
       " 0.03643647678777626,\n",
       " 0.036384297730633466,\n",
       " 0.0363319936994994,\n",
       " 0.03627957326403277,\n",
       " 0.0362270448753427,\n",
       " 0.03617441686614876,\n",
       " 0.036121697450971116,\n",
       " 0.036068894726358436,\n",
       " 0.03601601667114614,\n",
       " 0.03596307114674924,\n",
       " 0.035910065897483724,\n",
       " 0.035857008550919695,\n",
       " 0.0358039066182621,\n",
       " 0.03575076749476147,\n",
       " 0.03569759846015133,\n",
       " 0.03564440667911351,\n",
       " 0.035591199201768765,\n",
       " 0.03553798296419349,\n",
       " 0.035484764788960524,\n",
       " 0.03543155138570445,\n",
       " 0.03537834935170972,\n",
       " 0.03532516517252164,\n",
       " 0.03527200522257885,\n",
       " 0.03521887576586721,\n",
       " 0.0351657829565937,\n",
       " 0.03511273283988042,\n",
       " 0.03505973135247728,\n",
       " 0.03500678432349322,\n",
       " 0.03495389747514494,\n",
       " 0.034901076423522706,\n",
       " 0.034848326679372356,\n",
       " 0.03479565364889306,\n",
       " 0.03474306263454997,\n",
       " 0.03469055883590131,\n",
       " 0.034638147350439054,\n",
       " 0.0345858331744428,\n",
       " 0.034533621203846,\n",
       " 0.034481516235114085,\n",
       " 0.03442952296613372,\n",
       " 0.034377645997112787,\n",
       " 0.03432588983149029,\n",
       " 0.034274258876855784,\n",
       " 0.03422275744587761,\n",
       " 0.034171389757239455,\n",
       " 0.03412015993658463,\n",
       " 0.034069072017467554,\n",
       " 0.03401812994231186,\n",
       " 0.03396733756337467,\n",
       " 0.03391669864371639,\n",
       " 0.03386621685817567,\n",
       " 0.03381589579434887,\n",
       " 0.03376573895357369,\n",
       " 0.03371574975191632,\n",
       " 0.03366593152116181,\n",
       " 0.03361628750980708,\n",
       " 0.033566820884056096,\n",
       " 0.03351753472881691,\n",
       " 0.0334684320487,\n",
       " 0.033419515769017534,\n",
       " 0.03337078873678313,\n",
       " 0.03332225372171178,\n",
       " 0.03327391341721938]"
      ]
     },
     "execution_count": 13,
     "metadata": {},
     "output_type": "execute_result"
    }
   ],
   "source": [
    "snhx"
   ]
  },
  {
   "cell_type": "markdown",
   "metadata": {},
   "source": [
    "Let's plot our simulation results:"
   ]
  },
  {
   "cell_type": "code",
   "execution_count": 14,
   "metadata": {},
   "outputs": [
    {
     "data": {
      "image/png": "[encoded data removed]",
      "text/plain": [
       "<Figure size 432x288 with 1 Axes>"
      ]
     },
     "metadata": {
      "needs_background": "light"
     },
     "output_type": "display_data"
    }
   ],
   "source": [
    "fig,ax = plt.subplots(1,1)\n",
    "ax.set_xlabel('time')\n",
    "ax.set_ylabel('SNHx')\n",
    "ax.plot(t, snhx)\n",
    "fig.canvas.draw()"
   ]
  },
  {
   "cell_type": "markdown",
   "metadata": {
    "collapsed": true
   },
   "source": [
    "OK, let's start some serious work now using the tools demonstrated above:"
   ]
  },
  {
   "cell_type": "code",
   "execution_count": 15,
   "metadata": {},
   "outputs": [
    {
     "name": "stdout",
     "output_type": "stream",
     "text": [
      "530021 Set: Sumo__Plant__param__Sumo1__KNHx_NITO_AS to 0.2\n",
      "530002 Simulation started.\n",
      "530004 Simulation ended.\n",
      "530021 Set: Sumo__Plant__param__Sumo1__KNHx_NITO_AS to 0.4\n",
      "530002 Simulation started.\n",
      "530004 Simulation ended.\n",
      "530021 Set: Sumo__Plant__param__Sumo1__KNHx_NITO_AS to 0.6\n",
      "530002 Simulation started.\n",
      "530004 Simulation ended.\n",
      "530021 Set: Sumo__Plant__param__Sumo1__KNHx_NITO_AS to 0.8\n",
      "530002 Simulation started.\n",
      "530004 Simulation ended.\n",
      "530021 Set: Sumo__Plant__param__Sumo1__KNHx_NITO_AS to 1\n",
      "530002 Simulation started.\n",
      "530004 Simulation ended.\n"
     ]
    }
   ],
   "source": [
    "# Let's store all the sensitivity analysis results in one data structure.\n",
    "from collections import OrderedDict\n",
    "snhx_sensitivity_data = OrderedDict()\n",
    "\n",
    "# So we are going to change the ammonia half-saturation coefficient. \n",
    "# For now we just create a list of our desired values manually. \n",
    "# If required, Python provides tools to create the required values programmatically - see e.g. the range or linspace methods.\n",
    "for KNHx in [0.2, 0.4, 0.6, 0.8, 1.0]:\n",
    "    command = 'set Sumo__Plant__param__Sumo1__KNHx_NITO_AS ' + str(KNHx) + ';'\n",
    "    sumo.core.csumo_command_send(sumo.handle, command.encode('utf8'))\n",
    "    \n",
    "    # Do not forget to empty our lists before a simulation, otherwise\n",
    "    # new simulation results would just be appended.\n",
    "    t = []\n",
    "    snhx = []\n",
    "    \n",
    "    # Let's have Sumo do some work\n",
    "    sumo.run_model()\n",
    "    # The run_model is an asynchronous call, so we need to wait until\n",
    "    # the current run is finished, otherwise we would mess up our simulations\n",
    "    while not sumo.simulation_finished:\n",
    "        time.sleep(0.01)\n",
    "\n",
    "    # Good, we got our data in the list, let's store 'em in our dictionary, using \n",
    "    # KNHx as the label\n",
    "    snhx_sensitivity_data[KNHx] = snhx"
   ]
  },
  {
   "cell_type": "markdown",
   "metadata": {},
   "source": [
    "...and finally let's plot the results. Nothing really prevents us from updating our plots inside the sensitivity analysis loop either - that way we would get a graphical feedback about the progress; implementing this feature will be a good user exercise... :P"
   ]
  },
  {
   "cell_type": "code",
   "execution_count": 16,
   "metadata": {},
   "outputs": [
    {
     "data": {
      "image/png": "[encoded data removed]",
      "text/plain": [
       "<Figure size 432x288 with 1 Axes>"
      ]
     },
     "metadata": {
      "needs_background": "light"
     },
     "output_type": "display_data"
    }
   ],
   "source": [
    "fig, axes = plt.subplots(1,1)\n",
    "axes.set_xlabel('time')\n",
    "axes.set_ylabel('SNHx')\n",
    "\n",
    "for KNHx, snhx in snhx_sensitivity_data.items():\n",
    "    axes.plot(t, snhx, label=str(KNHx))\n",
    "    plt.legend(loc='upper right', title='Legend')\n",
    "    fig.canvas.draw()"
   ]
  },
  {
   "cell_type": "code",
   "execution_count": null,
   "metadata": {},
   "outputs": [],
   "source": []
  },
  {
   "cell_type": "code",
   "execution_count": null,
   "metadata": {},
   "outputs": [],
   "source": []
  }
 ],
 "metadata": {
  "kernelspec": {
   "display_name": "Python 3",
   "language": "python",
   "name": "python3"
  },
  "language_info": {
   "codemirror_mode": {
    "name": "ipython",
    "version": 3
   },
   "file_extension": ".py",
   "mimetype": "text/x-python",
   "name": "python",
   "nbconvert_exporter": "python",
   "pygments_lexer": "ipython3",
   "version": "3.7.4"
  }
 },
 "nbformat": 4,
 "nbformat_minor": 1
}
